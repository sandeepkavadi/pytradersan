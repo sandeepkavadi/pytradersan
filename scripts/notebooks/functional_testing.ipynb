{
 "cells": [
  {
   "cell_type": "code",
   "execution_count": 8,
   "metadata": {},
   "outputs": [],
   "source": [
    "import pandas as pd\n",
    "import numpy as np\n",
    "import os\n",
    "from pytradersan import constants\n",
    "from pytradersan.helpers import standardize_transactions\n",
    "from pytradersan.portfolio import Portfolio\n",
    "from pathlib import Path\n",
    "import glob\n",
    "from collections import defaultdict\n",
    "import requests\n",
    "import json\n",
    "\n",
    "from pytradersan.secrets.schwab import SCHWAB_BEARER_TOKEN"
   ]
  },
  {
   "cell_type": "code",
   "execution_count": 6,
   "metadata": {},
   "outputs": [
    {
     "data": {
      "text/plain": [
       "'/home/sandeep/projects/pytradersan/scripts/notebooks'"
      ]
     },
     "execution_count": 6,
     "metadata": {},
     "output_type": "execute_result"
    }
   ],
   "source": [
    "os.getcwd()"
   ]
  },
  {
   "cell_type": "code",
   "execution_count": 38,
   "metadata": {},
   "outputs": [
    {
     "name": "stdout",
     "output_type": "stream",
     "text": [
      "The autoreload extension is already loaded. To reload it, use:\n",
      "  %reload_ext autoreload\n"
     ]
    }
   ],
   "source": [
    "%load_ext autoreload\n",
    "%autoreload 2"
   ]
  },
  {
   "cell_type": "code",
   "execution_count": null,
   "metadata": {},
   "outputs": [],
   "source": [
    "headers = {\n",
    "    'accept': 'application/json', \n",
    "    'Authorization': SCHWAB_BEARER_TOKEN,\n",
    "    }\n",
    "\n",
    "url = 'https://api.schwabapi.com/trader/v1/accounts/accountNumbers'\n",
    "\n",
    "r = requests.get(url, headers=headers)"
   ]
  },
  {
   "cell_type": "code",
   "execution_count": 50,
   "metadata": {},
   "outputs": [],
   "source": [
    "encrypted_account = r.json()[0]['hashValue']"
   ]
  },
  {
   "cell_type": "code",
   "execution_count": 66,
   "metadata": {},
   "outputs": [
    {
     "data": {
      "text/plain": [
       "'68F76B8241AAEEAD55C840BAFAFFC16F340DC3FE3919886A9E20EC8E52480041'"
      ]
     },
     "execution_count": 66,
     "metadata": {},
     "output_type": "execute_result"
    }
   ],
   "source": [
    "encrypted_account"
   ]
  },
  {
   "cell_type": "code",
   "execution_count": null,
   "metadata": {},
   "outputs": [],
   "source": [
    "headers = {\n",
    "    'accept': 'application/json', \n",
    "    'Authorization': SCHWAB_BEARER_TOKEN,\n",
    "    }\n",
    "\n",
    "params = {\n",
    "    'startDate': '2024-01-01T00:00:00.000Z',\n",
    "    'endDate': '2024-12-31T00:00:00.000Z',\n",
    "    'types': 'TRADE',\n",
    "}\n",
    "\n",
    "url = f'https://api.schwabapi.com/trader/v1/accounts/{encrypted_account}/transactions'\n",
    "r2 = requests.get(url, headers=headers, params=params)"
   ]
  },
  {
   "cell_type": "code",
   "execution_count": 108,
   "metadata": {},
   "outputs": [
    {
     "data": {
      "text/plain": [
       "<Response [401]>"
      ]
     },
     "execution_count": 108,
     "metadata": {},
     "output_type": "execute_result"
    }
   ],
   "source": [
    "# raw_transactions = r.json()\n",
    "# r.url\n",
    "r2"
   ]
  },
  {
   "cell_type": "code",
   "execution_count": 77,
   "metadata": {},
   "outputs": [
    {
     "data": {
      "text/plain": [
       "86"
      ]
     },
     "execution_count": 77,
     "metadata": {},
     "output_type": "execute_result"
    }
   ],
   "source": [
    "len(raw_transactions)"
   ]
  },
  {
   "cell_type": "code",
   "execution_count": 79,
   "metadata": {},
   "outputs": [
    {
     "data": {
      "text/plain": [
       "dict_keys(['activityId', 'time', 'accountNumber', 'type', 'status', 'subAccount', 'tradeDate', 'positionId', 'orderId', 'netAmount', 'transferItems'])"
      ]
     },
     "execution_count": 79,
     "metadata": {},
     "output_type": "execute_result"
    }
   ],
   "source": [
    "raw_transactions[-1].keys()"
   ]
  },
  {
   "cell_type": "code",
   "execution_count": 106,
   "metadata": {},
   "outputs": [
    {
     "name": "stderr",
     "output_type": "stream",
     "text": [
      "/tmp/ipykernel_503451/1293870510.py:1: FutureWarning: Passing literal json to 'read_json' is deprecated and will be removed in a future version. To read from a literal string, wrap it in a 'StringIO' object.\n",
      "  txns = pd.read_json(json.dumps(raw_transactions))\n"
     ]
    }
   ],
   "source": [
    "txns = pd.read_json(json.dumps(raw_transactions))"
   ]
  },
  {
   "cell_type": "code",
   "execution_count": 96,
   "metadata": {},
   "outputs": [
    {
     "data": {
      "text/html": [
       "<div>\n",
       "<style scoped>\n",
       "    .dataframe tbody tr th:only-of-type {\n",
       "        vertical-align: middle;\n",
       "    }\n",
       "\n",
       "    .dataframe tbody tr th {\n",
       "        vertical-align: top;\n",
       "    }\n",
       "\n",
       "    .dataframe thead th {\n",
       "        text-align: right;\n",
       "    }\n",
       "</style>\n",
       "<table border=\"1\" class=\"dataframe\">\n",
       "  <thead>\n",
       "    <tr style=\"text-align: right;\">\n",
       "      <th></th>\n",
       "      <th>activityId</th>\n",
       "      <th>time</th>\n",
       "      <th>accountNumber</th>\n",
       "      <th>type</th>\n",
       "      <th>status</th>\n",
       "      <th>subAccount</th>\n",
       "      <th>tradeDate</th>\n",
       "      <th>positionId</th>\n",
       "      <th>orderId</th>\n",
       "      <th>netAmount</th>\n",
       "      <th>transferItems</th>\n",
       "    </tr>\n",
       "  </thead>\n",
       "  <tbody>\n",
       "    <tr>\n",
       "      <th>39</th>\n",
       "      <td>86068541987</td>\n",
       "      <td>2024-09-18T14:37:57+0000</td>\n",
       "      <td>75365576</td>\n",
       "      <td>TRADE</td>\n",
       "      <td>VALID</td>\n",
       "      <td>MARGIN</td>\n",
       "      <td>2024-09-18T14:37:57+0000</td>\n",
       "      <td>2474152097</td>\n",
       "      <td>1001625616762</td>\n",
       "      <td>15490.55</td>\n",
       "      <td>[{'instrument': {'assetType': 'CURRENCY', 'sta...</td>\n",
       "    </tr>\n",
       "    <tr>\n",
       "      <th>22</th>\n",
       "      <td>88899812804</td>\n",
       "      <td>2024-11-21T15:09:59+0000</td>\n",
       "      <td>75365576</td>\n",
       "      <td>TRADE</td>\n",
       "      <td>VALID</td>\n",
       "      <td>MARGIN</td>\n",
       "      <td>2024-11-21T15:09:59+0000</td>\n",
       "      <td>2474152101</td>\n",
       "      <td>1002281209763</td>\n",
       "      <td>15386.35</td>\n",
       "      <td>[{'instrument': {'assetType': 'CURRENCY', 'sta...</td>\n",
       "    </tr>\n",
       "    <tr>\n",
       "      <th>21</th>\n",
       "      <td>88906958522</td>\n",
       "      <td>2024-11-21T15:45:45+0000</td>\n",
       "      <td>75365576</td>\n",
       "      <td>TRADE</td>\n",
       "      <td>VALID</td>\n",
       "      <td>MARGIN</td>\n",
       "      <td>2024-11-21T15:45:45+0000</td>\n",
       "      <td>2474152102</td>\n",
       "      <td>1002283079911</td>\n",
       "      <td>14316.48</td>\n",
       "      <td>[{'instrument': {'assetType': 'CURRENCY', 'sta...</td>\n",
       "    </tr>\n",
       "    <tr>\n",
       "      <th>37</th>\n",
       "      <td>86126686975</td>\n",
       "      <td>2024-09-19T13:55:50+0000</td>\n",
       "      <td>75365576</td>\n",
       "      <td>TRADE</td>\n",
       "      <td>VALID</td>\n",
       "      <td>MARGIN</td>\n",
       "      <td>2024-09-19T13:55:50+0000</td>\n",
       "      <td>2474152097</td>\n",
       "      <td>1001638683085</td>\n",
       "      <td>11199.68</td>\n",
       "      <td>[{'instrument': {'assetType': 'CURRENCY', 'sta...</td>\n",
       "    </tr>\n",
       "    <tr>\n",
       "      <th>38</th>\n",
       "      <td>86126686970</td>\n",
       "      <td>2024-09-19T13:55:50+0000</td>\n",
       "      <td>75365576</td>\n",
       "      <td>TRADE</td>\n",
       "      <td>VALID</td>\n",
       "      <td>MARGIN</td>\n",
       "      <td>2024-09-19T13:55:50+0000</td>\n",
       "      <td>2474152097</td>\n",
       "      <td>1001638683085</td>\n",
       "      <td>11199.67</td>\n",
       "      <td>[{'instrument': {'assetType': 'CURRENCY', 'sta...</td>\n",
       "    </tr>\n",
       "    <tr>\n",
       "      <th>...</th>\n",
       "      <td>...</td>\n",
       "      <td>...</td>\n",
       "      <td>...</td>\n",
       "      <td>...</td>\n",
       "      <td>...</td>\n",
       "      <td>...</td>\n",
       "      <td>...</td>\n",
       "      <td>...</td>\n",
       "      <td>...</td>\n",
       "      <td>...</td>\n",
       "      <td>...</td>\n",
       "    </tr>\n",
       "    <tr>\n",
       "      <th>16</th>\n",
       "      <td>89794955261</td>\n",
       "      <td>2024-12-13T13:59:23+0000</td>\n",
       "      <td>75365576</td>\n",
       "      <td>TRADE</td>\n",
       "      <td>VALID</td>\n",
       "      <td>MARGIN</td>\n",
       "      <td>2024-12-13T13:59:23+0000</td>\n",
       "      <td>2679920816</td>\n",
       "      <td>1002434731133</td>\n",
       "      <td>-4750.00</td>\n",
       "      <td>[{'instrument': {'assetType': 'CURRENCY', 'sta...</td>\n",
       "    </tr>\n",
       "    <tr>\n",
       "      <th>4</th>\n",
       "      <td>90100119574</td>\n",
       "      <td>2024-12-19T20:48:28+0000</td>\n",
       "      <td>75365576</td>\n",
       "      <td>TRADE</td>\n",
       "      <td>VALID</td>\n",
       "      <td>MARGIN</td>\n",
       "      <td>2024-12-19T20:48:28+0000</td>\n",
       "      <td>2508357044</td>\n",
       "      <td>1002476744756</td>\n",
       "      <td>-4864.50</td>\n",
       "      <td>[{'instrument': {'assetType': 'CURRENCY', 'sta...</td>\n",
       "    </tr>\n",
       "    <tr>\n",
       "      <th>40</th>\n",
       "      <td>85267050592</td>\n",
       "      <td>2024-08-28T16:30:01+0000</td>\n",
       "      <td>75365576</td>\n",
       "      <td>TRADE</td>\n",
       "      <td>VALID</td>\n",
       "      <td>MARGIN</td>\n",
       "      <td>2024-08-28T16:30:01+0000</td>\n",
       "      <td>2556420671</td>\n",
       "      <td>1001443459379</td>\n",
       "      <td>-5562.50</td>\n",
       "      <td>[{'instrument': {'assetType': 'CURRENCY', 'sta...</td>\n",
       "    </tr>\n",
       "    <tr>\n",
       "      <th>7</th>\n",
       "      <td>89940850231</td>\n",
       "      <td>2024-12-17T15:47:36+0000</td>\n",
       "      <td>75365576</td>\n",
       "      <td>TRADE</td>\n",
       "      <td>VALID</td>\n",
       "      <td>MARGIN</td>\n",
       "      <td>2024-12-17T15:47:36+0000</td>\n",
       "      <td>2684754316</td>\n",
       "      <td>1002455486019</td>\n",
       "      <td>-6000.00</td>\n",
       "      <td>[{'instrument': {'assetType': 'CURRENCY', 'sta...</td>\n",
       "    </tr>\n",
       "    <tr>\n",
       "      <th>12</th>\n",
       "      <td>89796859991</td>\n",
       "      <td>2024-12-13T14:31:25+0000</td>\n",
       "      <td>75365576</td>\n",
       "      <td>TRADE</td>\n",
       "      <td>VALID</td>\n",
       "      <td>MARGIN</td>\n",
       "      <td>2024-12-13T14:31:25+0000</td>\n",
       "      <td>2679920888</td>\n",
       "      <td>1002434731065</td>\n",
       "      <td>-7000.00</td>\n",
       "      <td>[{'instrument': {'assetType': 'CURRENCY', 'sta...</td>\n",
       "    </tr>\n",
       "  </tbody>\n",
       "</table>\n",
       "<p>86 rows × 11 columns</p>\n",
       "</div>"
      ],
      "text/plain": [
       "     activityId                      time  accountNumber   type status  \\\n",
       "39  86068541987  2024-09-18T14:37:57+0000       75365576  TRADE  VALID   \n",
       "22  88899812804  2024-11-21T15:09:59+0000       75365576  TRADE  VALID   \n",
       "21  88906958522  2024-11-21T15:45:45+0000       75365576  TRADE  VALID   \n",
       "37  86126686975  2024-09-19T13:55:50+0000       75365576  TRADE  VALID   \n",
       "38  86126686970  2024-09-19T13:55:50+0000       75365576  TRADE  VALID   \n",
       "..          ...                       ...            ...    ...    ...   \n",
       "16  89794955261  2024-12-13T13:59:23+0000       75365576  TRADE  VALID   \n",
       "4   90100119574  2024-12-19T20:48:28+0000       75365576  TRADE  VALID   \n",
       "40  85267050592  2024-08-28T16:30:01+0000       75365576  TRADE  VALID   \n",
       "7   89940850231  2024-12-17T15:47:36+0000       75365576  TRADE  VALID   \n",
       "12  89796859991  2024-12-13T14:31:25+0000       75365576  TRADE  VALID   \n",
       "\n",
       "   subAccount                 tradeDate  positionId        orderId  netAmount  \\\n",
       "39     MARGIN  2024-09-18T14:37:57+0000  2474152097  1001625616762   15490.55   \n",
       "22     MARGIN  2024-11-21T15:09:59+0000  2474152101  1002281209763   15386.35   \n",
       "21     MARGIN  2024-11-21T15:45:45+0000  2474152102  1002283079911   14316.48   \n",
       "37     MARGIN  2024-09-19T13:55:50+0000  2474152097  1001638683085   11199.68   \n",
       "38     MARGIN  2024-09-19T13:55:50+0000  2474152097  1001638683085   11199.67   \n",
       "..        ...                       ...         ...            ...        ...   \n",
       "16     MARGIN  2024-12-13T13:59:23+0000  2679920816  1002434731133   -4750.00   \n",
       "4      MARGIN  2024-12-19T20:48:28+0000  2508357044  1002476744756   -4864.50   \n",
       "40     MARGIN  2024-08-28T16:30:01+0000  2556420671  1001443459379   -5562.50   \n",
       "7      MARGIN  2024-12-17T15:47:36+0000  2684754316  1002455486019   -6000.00   \n",
       "12     MARGIN  2024-12-13T14:31:25+0000  2679920888  1002434731065   -7000.00   \n",
       "\n",
       "                                        transferItems  \n",
       "39  [{'instrument': {'assetType': 'CURRENCY', 'sta...  \n",
       "22  [{'instrument': {'assetType': 'CURRENCY', 'sta...  \n",
       "21  [{'instrument': {'assetType': 'CURRENCY', 'sta...  \n",
       "37  [{'instrument': {'assetType': 'CURRENCY', 'sta...  \n",
       "38  [{'instrument': {'assetType': 'CURRENCY', 'sta...  \n",
       "..                                                ...  \n",
       "16  [{'instrument': {'assetType': 'CURRENCY', 'sta...  \n",
       "4   [{'instrument': {'assetType': 'CURRENCY', 'sta...  \n",
       "40  [{'instrument': {'assetType': 'CURRENCY', 'sta...  \n",
       "7   [{'instrument': {'assetType': 'CURRENCY', 'sta...  \n",
       "12  [{'instrument': {'assetType': 'CURRENCY', 'sta...  \n",
       "\n",
       "[86 rows x 11 columns]"
      ]
     },
     "execution_count": 96,
     "metadata": {},
     "output_type": "execute_result"
    }
   ],
   "source": [
    "txns.sort_values(by='netAmount', ascending=False)"
   ]
  },
  {
   "cell_type": "code",
   "execution_count": 104,
   "metadata": {},
   "outputs": [
    {
     "data": {
      "text/plain": [
       "{'instrument': {'assetType': 'EQUITY',\n",
       "  'status': 'ACTIVE',\n",
       "  'symbol': 'AMD',\n",
       "  'instrumentId': 1137441,\n",
       "  'closingPrice': 103.22,\n",
       "  'type': 'COMMON_STOCK'},\n",
       " 'amount': 20.0,\n",
       " 'cost': -2499.79,\n",
       " 'price': 124.9895,\n",
       " 'positionEffect': 'OPENING'}"
      ]
     },
     "execution_count": 104,
     "metadata": {},
     "output_type": "execute_result"
    }
   ],
   "source": [
    "txns.loc[0, 'transferItems'][4]"
   ]
  },
  {
   "cell_type": "code",
   "execution_count": null,
   "metadata": {},
   "outputs": [],
   "source": []
  },
  {
   "cell_type": "code",
   "execution_count": null,
   "metadata": {},
   "outputs": [],
   "source": []
  },
  {
   "cell_type": "code",
   "execution_count": 36,
   "metadata": {},
   "outputs": [
    {
     "name": "stdout",
     "output_type": "stream",
     "text": [
      "['../../data/schwab576_20250328.csv']\n",
      "Loading ../../data/schwab576_20250328.csv with key schwab576_20250328\n"
     ]
    }
   ],
   "source": [
    "origin = Path('../..')\n",
    "\n",
    "schwab_files = glob.glob(str(origin / 'data' / 'schwab*.csv'))\n",
    "print(schwab_files)\n",
    "\n",
    "# Load raw Schwab transactions\n",
    "schwab_transactions = defaultdict(dict)\n",
    "for schwab_file in schwab_files:\n",
    "    name = schwab_file.split('/')[-1].split('.csv')[0]\n",
    "    print(f'Loading {schwab_file} with key {name}')\n",
    "    schwab_transactions[name] = pd.read_csv(schwab_file)\n"
   ]
  },
  {
   "cell_type": "code",
   "execution_count": null,
   "metadata": {},
   "outputs": [],
   "source": [
    "for "
   ]
  },
  {
   "cell_type": "code",
   "execution_count": null,
   "metadata": {},
   "outputs": [],
   "source": []
  },
  {
   "cell_type": "code",
   "execution_count": null,
   "metadata": {},
   "outputs": [],
   "source": []
  },
  {
   "cell_type": "code",
   "execution_count": null,
   "metadata": {},
   "outputs": [],
   "source": []
  },
  {
   "cell_type": "code",
   "execution_count": null,
   "metadata": {},
   "outputs": [],
   "source": []
  },
  {
   "cell_type": "code",
   "execution_count": null,
   "metadata": {},
   "outputs": [],
   "source": []
  }
 ],
 "metadata": {
  "kernelspec": {
   "display_name": "trading",
   "language": "python",
   "name": "python3"
  },
  "language_info": {
   "codemirror_mode": {
    "name": "ipython",
    "version": 3
   },
   "file_extension": ".py",
   "mimetype": "text/x-python",
   "name": "python",
   "nbconvert_exporter": "python",
   "pygments_lexer": "ipython3",
   "version": "3.10.12"
  }
 },
 "nbformat": 4,
 "nbformat_minor": 2
}
