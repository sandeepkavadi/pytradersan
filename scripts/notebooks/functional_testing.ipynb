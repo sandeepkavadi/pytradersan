{
 "cells": [
  {
   "cell_type": "code",
   "execution_count": null,
   "metadata": {},
   "outputs": [],
   "source": [
    "import pandas as pd\n",
    "import numpy as np\n",
    "import os\n",
    "from pytradersan import constants\n",
    "from pytradersan.helpers import standardize_transactions\n",
    "from pytradersan.portfolio import Portfolio\n",
    "from pathlib import Path\n",
    "import glob\n",
    "from collections import defaultdict\n",
    "import requests\n",
    "import json\n",
    "\n",
    "from pytradersan.secrets.schwab import SCHWAB_BEARER_TOKEN"
   ]
  },
  {
   "cell_type": "code",
   "execution_count": null,
   "metadata": {},
   "outputs": [],
   "source": [
    "%load_ext autoreload\n",
    "%autoreload 2"
   ]
  },
  {
   "cell_type": "code",
   "execution_count": null,
   "metadata": {},
   "outputs": [],
   "source": [
    "headers = {\n",
    "    'accept': 'application/json', \n",
    "    'Authorization': SCHWAB_BEARER_TOKEN,\n",
    "    }\n",
    "\n",
    "url = 'https://api.schwabapi.com/trader/v1/accounts/accountNumbers'\n",
    "\n",
    "r = requests.get(url, headers=headers)"
   ]
  },
  {
   "cell_type": "code",
   "execution_count": null,
   "metadata": {},
   "outputs": [],
   "source": [
    "encrypted_account"
   ]
  },
  {
   "cell_type": "code",
   "execution_count": null,
   "metadata": {},
   "outputs": [],
   "source": [
    "headers = {\n",
    "    'accept': 'application/json', \n",
    "    'Authorization': SCHWAB_BEARER_TOKEN,\n",
    "    }\n",
    "\n",
    "params = {\n",
    "    'startDate': '2024-01-01T00:00:00.000Z',\n",
    "    'endDate': '2024-12-31T00:00:00.000Z',\n",
    "    'types': 'TRADE',\n",
    "}\n",
    "\n",
    "url = f'https://api.schwabapi.com/trader/v1/accounts/{encrypted_account}/transactions'\n",
    "r2 = requests.get(url, headers=headers, params=params)"
   ]
  },
  {
   "cell_type": "code",
   "execution_count": null,
   "metadata": {},
   "outputs": [],
   "source": [
    "# raw_transactions = r.json()\n",
    "# r.url\n",
    "r2"
   ]
  },
  {
   "cell_type": "code",
   "execution_count": null,
   "metadata": {},
   "outputs": [],
   "source": [
    "len(raw_transactions)"
   ]
  },
  {
   "cell_type": "code",
   "execution_count": null,
   "metadata": {},
   "outputs": [],
   "source": [
    "raw_transactions[-1].keys()"
   ]
  },
  {
   "cell_type": "code",
   "execution_count": null,
   "metadata": {},
   "outputs": [],
   "source": [
    "txns = pd.read_json(json.dumps(raw_transactions))"
   ]
  },
  {
   "cell_type": "code",
   "execution_count": null,
   "metadata": {},
   "outputs": [],
   "source": [
    "# txns.sort_values(by='netAmount', ascending=False)"
   ]
  },
  {
   "cell_type": "code",
   "execution_count": null,
   "metadata": {},
   "outputs": [],
   "source": [
    "txns.loc[0, 'transferItems'][4]"
   ]
  },
  {
   "cell_type": "code",
   "execution_count": null,
   "metadata": {},
   "outputs": [],
   "source": []
  },
  {
   "cell_type": "code",
   "execution_count": null,
   "metadata": {},
   "outputs": [],
   "source": []
  },
  {
   "cell_type": "code",
   "execution_count": null,
   "metadata": {},
   "outputs": [],
   "source": [
    "origin = Path('../..')\n",
    "\n",
    "schwab_files = glob.glob(str(origin / 'data' / 'schwab*.csv'))\n",
    "print(schwab_files)\n",
    "\n",
    "# Load raw Schwab transactions\n",
    "schwab_transactions = defaultdict(dict)\n",
    "for schwab_file in schwab_files:\n",
    "    name = schwab_file.split('/')[-1].split('.csv')[0]\n",
    "    print(f'Loading {schwab_file} with key {name}')\n",
    "    schwab_transactions[name] = pd.read_csv(schwab_file)\n"
   ]
  },
  {
   "cell_type": "code",
   "execution_count": null,
   "metadata": {},
   "outputs": [],
   "source": [
    "for "
   ]
  },
  {
   "cell_type": "code",
   "execution_count": null,
   "metadata": {},
   "outputs": [],
   "source": []
  },
  {
   "cell_type": "code",
   "execution_count": null,
   "metadata": {},
   "outputs": [],
   "source": []
  },
  {
   "cell_type": "code",
   "execution_count": null,
   "metadata": {},
   "outputs": [],
   "source": []
  },
  {
   "cell_type": "code",
   "execution_count": null,
   "metadata": {},
   "outputs": [],
   "source": []
  },
  {
   "cell_type": "code",
   "execution_count": null,
   "metadata": {},
   "outputs": [],
   "source": []
  }
 ],
 "metadata": {
  "kernelspec": {
   "display_name": "trading",
   "language": "python",
   "name": "python3"
  },
  "language_info": {
   "codemirror_mode": {
    "name": "ipython",
    "version": 3
   },
   "file_extension": ".py",
   "mimetype": "text/x-python",
   "name": "python",
   "nbconvert_exporter": "python",
   "pygments_lexer": "ipython3",
   "version": "3.10.12"
  }
 },
 "nbformat": 4,
 "nbformat_minor": 2
}
