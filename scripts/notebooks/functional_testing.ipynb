{
 "cells": [
  {
   "cell_type": "code",
   "execution_count": null,
   "metadata": {},
   "outputs": [],
   "source": [
    "import pandas as pd\n",
    "import numpy as np\n",
    "import os\n",
    "\n",
    "from pytradersan import constants\n",
    "from pytradersan.helpers import standardize_transactions\n",
    "from pytradersan.portfolio import Portfolio\n",
    "from pytradersan.schwab_api import (\n",
    "    SCHWAB_API_URL,\n",
    "    SCHWAB_API_TRANSACTION_TYPES, \n",
    "    API_COLUMN_MAPPER, \n",
    "    get_combined_transactions\n",
    ")\n",
    "\n",
    "from pathlib import Path\n",
    "import glob\n",
    "from collections import defaultdict\n",
    "import requests\n",
    "import json\n",
    "from tzlocal import get_localzone\n",
    "\n",
    "from dotenv import load_dotenv, find_dotenv"
   ]
  },
  {
   "cell_type": "code",
   "execution_count": null,
   "metadata": {},
   "outputs": [],
   "source": [
    "%load_ext autoreload\n",
    "%autoreload 2"
   ]
  },
  {
   "cell_type": "code",
   "execution_count": null,
   "metadata": {},
   "outputs": [],
   "source": [
    "load_dotenv(find_dotenv())\n",
    "SCHWAB_BEARER_TOKEN = os.getenv(\"SCHWAB_BEARER_TOKEN\")"
   ]
  },
  {
   "cell_type": "code",
   "execution_count": null,
   "metadata": {},
   "outputs": [],
   "source": [
    "transactions = get_combined_transactions(\n",
    "    base_url=SCHWAB_API_BASE_URL,\n",
    "    token=SCHWAB_BEARER_TOKEN,\n",
    "    start_date='2024-01-01',\n",
    ")"
   ]
  },
  {
   "cell_type": "code",
   "execution_count": null,
   "metadata": {},
   "outputs": [],
   "source": [
    "trades = transactions['TRADE'].apply(\n",
    "    lambda x: parse_trades(x['transferItems']), axis=1\n",
    ").apply(pd.Series)\n",
    "trades['price'] = trades['price'].astype(float)\n",
    "trades['quantity'] = trades['quantity'].astype(float)\n",
    "trades['symbol'] = trades['symbol'].astype(str)\n",
    "trades['asset'] = trades['asset'].astype(str)\n",
    "trades['action'] = np.where(\n",
    "    trades['quantity'] > 0, 'BUY', 'SELL'\n",
    ")\n",
    "trades['action'] = trades['action'].astype(str)\n",
    "trades = trades.join(\n",
    "    transactions['TRADE'].copy(deep=True).drop(columns=['transferItems'])\n",
    ")\n",
    "trades = trades.rename(columns=API_COLUMN_MAPPER)\n",
    "trades = trades[API_COLUMN_MAPPER.values()]\n",
    "trades = trades.drop_duplicates()"
   ]
  },
  {
   "cell_type": "code",
   "execution_count": null,
   "metadata": {},
   "outputs": [],
   "source": [
    "trades.sort_values('date')\n"
   ]
  },
  {
   "cell_type": "code",
   "execution_count": null,
   "metadata": {},
   "outputs": [],
   "source": [
    "transactions['TRADE']"
   ]
  },
  {
   "cell_type": "code",
   "execution_count": null,
   "metadata": {},
   "outputs": [],
   "source": [
    "constants.TRANSACTIONS_STANDARD_COLS"
   ]
  },
  {
   "cell_type": "code",
   "execution_count": null,
   "metadata": {},
   "outputs": [],
   "source": [
    "df = transactions['TRADE'].drop('transferItems', axis=1).join(transactions['TRADE']['transferItems'].apply(parse_trades).apply(pd.Series))"
   ]
  },
  {
   "cell_type": "code",
   "execution_count": null,
   "metadata": {},
   "outputs": [],
   "source": []
  },
  {
   "cell_type": "code",
   "execution_count": null,
   "metadata": {},
   "outputs": [],
   "source": []
  },
  {
   "cell_type": "code",
   "execution_count": null,
   "metadata": {},
   "outputs": [],
   "source": [
    "origin = Path('../..')\n",
    "\n",
    "schwab_files = glob.glob(str(origin / 'data' / 'schwab*.csv'))\n",
    "print(schwab_files)\n",
    "\n",
    "# Load raw Schwab transactions\n",
    "schwab_transactions = defaultdict(dict)\n",
    "for schwab_file in schwab_files:\n",
    "    name = schwab_file.split('/')[-1].split('.csv')[0]\n",
    "    print(f'Loading {schwab_file} with key {name}')\n",
    "    schwab_transactions[name] = pd.read_csv(schwab_file)\n"
   ]
  },
  {
   "cell_type": "code",
   "execution_count": null,
   "metadata": {},
   "outputs": [],
   "source": []
  },
  {
   "cell_type": "code",
   "execution_count": null,
   "metadata": {},
   "outputs": [],
   "source": []
  },
  {
   "cell_type": "code",
   "execution_count": null,
   "metadata": {},
   "outputs": [],
   "source": []
  },
  {
   "cell_type": "code",
   "execution_count": null,
   "metadata": {},
   "outputs": [],
   "source": []
  },
  {
   "cell_type": "code",
   "execution_count": null,
   "metadata": {},
   "outputs": [],
   "source": []
  }
 ],
 "metadata": {
  "kernelspec": {
   "display_name": "trading",
   "language": "python",
   "name": "python3"
  },
  "language_info": {
   "codemirror_mode": {
    "name": "ipython",
    "version": 3
   },
   "file_extension": ".py",
   "mimetype": "text/x-python",
   "name": "python",
   "nbconvert_exporter": "python",
   "pygments_lexer": "ipython3",
   "version": "3.10.12"
  }
 },
 "nbformat": 4,
 "nbformat_minor": 2
}
