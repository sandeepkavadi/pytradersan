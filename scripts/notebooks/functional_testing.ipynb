{
 "cells": [
  {
   "cell_type": "code",
   "execution_count": null,
   "metadata": {},
   "outputs": [],
   "source": [
    "import pandas as pd\n",
    "import numpy as np\n",
    "import os\n",
    "\n",
    "from pytradersan import constants\n",
    "from pytradersan.helpers import standardize_transactions\n",
    "from pytradersan.portfolio import Portfolio\n",
    "from pytradersan.schwab_api import (\n",
    "    SCHWAB_API_BASE_URL,\n",
    "    get_combined_transactions,\n",
    "    process_raw_trades,\n",
    ")\n",
    "\n",
    "from pathlib import Path\n",
    "import glob\n",
    "from collections import defaultdict\n",
    "import requests\n",
    "import json\n",
    "from tzlocal import get_localzone\n",
    "import yfinance as yf\n",
    "\n",
    "from dotenv import load_dotenv, find_dotenv"
   ]
  },
  {
   "cell_type": "code",
   "execution_count": null,
   "metadata": {},
   "outputs": [],
   "source": [
    "%load_ext autoreload\n",
    "%autoreload 2"
   ]
  },
  {
   "cell_type": "code",
   "execution_count": null,
   "metadata": {},
   "outputs": [],
   "source": [
    "load_dotenv(find_dotenv())\n",
    "SCHWAB_BEARER_TOKEN = os.getenv(\"SCHWAB_BEARER_TOKEN\")"
   ]
  },
  {
   "cell_type": "code",
   "execution_count": null,
   "metadata": {},
   "outputs": [],
   "source": [
    "# Get file paths\n",
    "top_level = Path('../..')\n",
    "schwab_files = glob.glob(str(top_level / 'data' / '*schwab*.csv'))\n",
    "marcus_file = glob.glob(str(top_level / 'data' / 'marc*.csv'))[0]\n",
    "print(f'Schwab files: {schwab_files}')"
   ]
  },
  {
   "cell_type": "code",
   "execution_count": null,
   "metadata": {},
   "outputs": [],
   "source": [
    "sorted([x for x in schwab_files if 'api_trades' in x])"
   ]
  },
  {
   "cell_type": "code",
   "execution_count": null,
   "metadata": {},
   "outputs": [],
   "source": [
    "# Get Schwab transactions\n",
    "\n",
    "def get_schwab_transactions(schwab_files, use_api=False):\n",
    "    if use_api:\n",
    "        transactions = get_combined_transactions(\n",
    "            base_url=SCHWAB_API_BASE_URL,\n",
    "            token=SCHWAB_BEARER_TOKEN,\n",
    "            start_date='2024-01-01',\n",
    "        )\n",
    "        raw_schwab_trades = transactions['TRADE'].copy(deep=True)\n",
    "        raw_schwab_trades['transferItems'] = raw_schwab_trades['transferItems'].apply(json.dumps)\n",
    "        raw_schwab_trades.to_csv(top_level / 'data' / f'raw_schwab_api_trades_{pd.Timestamp.now().strftime('%Y%m%d')}.csv', index=False)\n",
    "    else:\n",
    "        latest_schwab_transactions_file = sorted(\n",
    "            [x for x in schwab_files if 'api_trades' in x],\n",
    "            reverse=True\n",
    "        )[0]\n",
    "        raw_schwab_trades = pd.read_csv(latest_schwab_transactions_file)\n",
    "    raw_schwab_trades['transferItems'] = raw_schwab_trades['transferItems'].apply(json.loads)\n",
    "    return raw_schwab_trades"
   ]
  },
  {
   "cell_type": "code",
   "execution_count": null,
   "metadata": {},
   "outputs": [],
   "source": [
    "# Get Transactions from local path\n",
    "\n",
    "# Read transactions from Schwab files\n",
    "raw_schwab_trades = get_schwab_transactions(schwab_files, use_api=False)\n",
    "\n",
    "# Read transactions from Marcus file\n",
    "raw_marcus_transactions = pd.read_csv(marcus_file)"
   ]
  },
  {
   "cell_type": "code",
   "execution_count": null,
   "metadata": {},
   "outputs": [],
   "source": [
    "# Process transactions\n",
    "\n",
    "# Get Marcus trades\n",
    "marcus_transactions_processed = standardize_transactions(\n",
    "    'marcus', 'marc8202', raw_marcus_transactions\n",
    ")\n",
    "marcus_trades = marcus_transactions_processed[\n",
    "    marcus_transactions_processed['action'].isin(['BUY', 'SELL'])\n",
    "].copy(deep=True)\n",
    "\n",
    "# Get Schwab trades\n",
    "schwab_trades = process_raw_trades(raw_schwab_trades)"
   ]
  },
  {
   "cell_type": "code",
   "execution_count": null,
   "metadata": {},
   "outputs": [],
   "source": [
    "schwab_trades is not None"
   ]
  },
  {
   "cell_type": "code",
   "execution_count": null,
   "metadata": {},
   "outputs": [],
   "source": [
    "# # Combine all trades\n",
    "# combined_trades = pd.concat([marcus_trades, schwab_trades], axis=0, ignore_index=True)\n",
    "# combined_trades['date'] = pd.to_datetime(combined_trades['date']).dt.date\n",
    "# combined_trades\n",
    "# prices = yf.download(\n",
    "#     tickers=combined_trades.symbol.unique().tolist()[:5],\n",
    "#     period='max',\n",
    "#     actions=True,\n",
    "# )"
   ]
  },
  {
   "cell_type": "code",
   "execution_count": null,
   "metadata": {},
   "outputs": [],
   "source": [
    "schwab_portfolio = Portfolio(trades=schwab_trades)\n",
    "marcus_portfolio = Portfolio(trades=marcus_trades)"
   ]
  },
  {
   "cell_type": "code",
   "execution_count": null,
   "metadata": {},
   "outputs": [],
   "source": [
    "# Testing the Ticker object from yfinance\n",
    "\n",
    "meta = yf.Ticker('META')\n",
    "meta_prices = meta.history()\n",
    "meta_price_targets = meta.analyst_price_targets\n",
    "meta_calendar = meta.calendar"
   ]
  },
  {
   "cell_type": "code",
   "execution_count": null,
   "metadata": {},
   "outputs": [],
   "source": [
    "meta_calendar"
   ]
  }
 ],
 "metadata": {
  "kernelspec": {
   "display_name": ".venv",
   "language": "python",
   "name": "python3"
  },
  "language_info": {
   "codemirror_mode": {
    "name": "ipython",
    "version": 3
   },
   "file_extension": ".py",
   "mimetype": "text/x-python",
   "name": "python",
   "nbconvert_exporter": "python",
   "pygments_lexer": "ipython3",
   "version": "3.13.0"
  }
 },
 "nbformat": 4,
 "nbformat_minor": 2
}
